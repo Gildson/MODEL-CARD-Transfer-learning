{
  "nbformat": 4,
  "nbformat_minor": 0,
  "metadata": {
    "colab": {
      "provenance": []
    },
    "kernelspec": {
      "name": "python3",
      "display_name": "Python 3"
    },
    "language_info": {
      "name": "python"
    },
    "accelerator": "GPU",
    "gpuClass": "standard"
  },
  "cells": [
    {
      "cell_type": "code",
      "execution_count": 1,
      "metadata": {
        "id": "8EaTQG2x5Vnu",
        "colab": {
          "base_uri": "https://localhost:8080/"
        },
        "outputId": "69c31c18-1059-4c6f-d853-68bcb0253fc9"
      },
      "outputs": [
        {
          "output_type": "stream",
          "name": "stdout",
          "text": [
            "\u001b[K     |████████████████████████████████| 1.9 MB 4.9 MB/s \n",
            "\u001b[K     |████████████████████████████████| 168 kB 63.1 MB/s \n",
            "\u001b[K     |████████████████████████████████| 182 kB 72.8 MB/s \n",
            "\u001b[K     |████████████████████████████████| 63 kB 2.1 MB/s \n",
            "\u001b[K     |████████████████████████████████| 166 kB 73.3 MB/s \n",
            "\u001b[K     |████████████████████████████████| 166 kB 55.4 MB/s \n",
            "\u001b[K     |████████████████████████████████| 162 kB 51.1 MB/s \n",
            "\u001b[K     |████████████████████████████████| 162 kB 70.1 MB/s \n",
            "\u001b[K     |████████████████████████████████| 158 kB 75.9 MB/s \n",
            "\u001b[K     |████████████████████████████████| 157 kB 77.6 MB/s \n",
            "\u001b[K     |████████████████████████████████| 157 kB 73.1 MB/s \n",
            "\u001b[K     |████████████████████████████████| 157 kB 75.8 MB/s \n",
            "\u001b[K     |████████████████████████████████| 157 kB 69.7 MB/s \n",
            "\u001b[K     |████████████████████████████████| 157 kB 78.6 MB/s \n",
            "\u001b[K     |████████████████████████████████| 157 kB 76.3 MB/s \n",
            "\u001b[K     |████████████████████████████████| 157 kB 71.1 MB/s \n",
            "\u001b[K     |████████████████████████████████| 156 kB 72.0 MB/s \n",
            "\u001b[?25h  Building wheel for pathtools (setup.py) ... \u001b[?25l\u001b[?25hdone\n"
          ]
        }
      ],
      "source": [
        "!pip install wandb -qU"
      ]
    },
    {
      "cell_type": "code",
      "source": [
        "import wandb\n",
        "wandb.login()"
      ],
      "metadata": {
        "colab": {
          "base_uri": "https://localhost:8080/",
          "height": 139
        },
        "id": "R-zlESwI5dxo",
        "outputId": "050c2738-01da-433a-b0b0-a2a4480d983c"
      },
      "execution_count": 2,
      "outputs": [
        {
          "output_type": "stream",
          "name": "stderr",
          "text": [
            "ERROR:wandb.jupyter:Failed to detect the name of this notebook, you can set it manually with the WANDB_NOTEBOOK_NAME environment variable to enable code saving.\n"
          ]
        },
        {
          "output_type": "display_data",
          "data": {
            "text/plain": [
              "<IPython.core.display.Javascript object>"
            ],
            "application/javascript": [
              "\n",
              "        window._wandbApiKey = new Promise((resolve, reject) => {\n",
              "            function loadScript(url) {\n",
              "            return new Promise(function(resolve, reject) {\n",
              "                let newScript = document.createElement(\"script\");\n",
              "                newScript.onerror = reject;\n",
              "                newScript.onload = resolve;\n",
              "                document.body.appendChild(newScript);\n",
              "                newScript.src = url;\n",
              "            });\n",
              "            }\n",
              "            loadScript(\"https://cdn.jsdelivr.net/npm/postmate/build/postmate.min.js\").then(() => {\n",
              "            const iframe = document.createElement('iframe')\n",
              "            iframe.style.cssText = \"width:0;height:0;border:none\"\n",
              "            document.body.appendChild(iframe)\n",
              "            const handshake = new Postmate({\n",
              "                container: iframe,\n",
              "                url: 'https://wandb.ai/authorize'\n",
              "            });\n",
              "            const timeout = setTimeout(() => reject(\"Couldn't auto authenticate\"), 5000)\n",
              "            handshake.then(function(child) {\n",
              "                child.on('authorize', data => {\n",
              "                    clearTimeout(timeout)\n",
              "                    resolve(data)\n",
              "                });\n",
              "            });\n",
              "            })\n",
              "        });\n",
              "    "
            ]
          },
          "metadata": {}
        },
        {
          "output_type": "stream",
          "name": "stderr",
          "text": [
            "\u001b[34m\u001b[1mwandb\u001b[0m: Logging into wandb.ai. (Learn how to deploy a W&B server locally: https://wandb.me/wandb-server)\n",
            "\u001b[34m\u001b[1mwandb\u001b[0m: You can find your API key in your browser here: https://wandb.ai/authorize\n",
            "wandb: Paste an API key from your profile and hit enter, or press ctrl+c to quit: "
          ]
        },
        {
          "name": "stdout",
          "output_type": "stream",
          "text": [
            "··········\n"
          ]
        },
        {
          "output_type": "stream",
          "name": "stderr",
          "text": [
            "\u001b[34m\u001b[1mwandb\u001b[0m: Appending key for api.wandb.ai to your netrc file: /root/.netrc\n"
          ]
        },
        {
          "output_type": "execute_result",
          "data": {
            "text/plain": [
              "True"
            ]
          },
          "metadata": {},
          "execution_count": 2
        }
      ]
    },
    {
      "cell_type": "code",
      "source": [
        "# import the necessary packages\n",
        "from imutils import paths\n",
        "import logging\n",
        "import os\n",
        "import cv2\n",
        "import numpy as np\n",
        "import joblib\n",
        "from sklearn.model_selection import train_test_split\n",
        "from sklearn.preprocessing import LabelEncoder"
      ],
      "metadata": {
        "id": "Yg_MUiu25mC_"
      },
      "execution_count": 3,
      "outputs": []
    },
    {
      "cell_type": "code",
      "source": [
        "\n",
        "# configure logging\n",
        "# reference for a logging obj\n",
        "logger = logging.getLogger()\n",
        "\n",
        "# set level of logging\n",
        "logger.setLevel(logging.INFO)\n",
        "\n",
        "# create handlers\n",
        "c_handler = logging.StreamHandler()\n",
        "c_format = logging.Formatter(fmt=\"%(asctime)s %(message)s\",datefmt='%d-%m-%Y %H:%M:%S')\n",
        "c_handler.setFormatter(c_format)\n",
        "\n",
        "# add handler to the logger\n",
        "logger.handlers[0] = c_handler"
      ],
      "metadata": {
        "id": "DgEg0pb45pC7"
      },
      "execution_count": 4,
      "outputs": []
    },
    {
      "cell_type": "markdown",
      "source": [
        "Segregação dos dados"
      ],
      "metadata": {
        "id": "0ISU5uRV5uWw"
      }
    },
    {
      "cell_type": "code",
      "source": [
        "# since we are using Jupyter Notebooks we can replace our argument\n",
        "# parsing code with *hard coded* arguments and values\n",
        "args = {\n",
        "  \"project_name\": \"transfer_learning_VGG-16\",\n",
        "  \"artifact_name_feature\": \"clean_data:latest\",\n",
        "  \"artifact_name_target\": \"label:latest\",\n",
        "  \"train_feature_artifact\": \"train_x\",\n",
        "  \"train_target_artifact\": \"train_y\",\n",
        "  \"test_feature_artifact\": \"test_x\",\n",
        "  \"test_target_artifact\": \"test_y\"\n",
        "}"
      ],
      "metadata": {
        "id": "Qd-_2Kr35rBn"
      },
      "execution_count": 5,
      "outputs": []
    },
    {
      "cell_type": "code",
      "source": [
        "# open the W&B project created in the Fetch step\n",
        "run = wandb.init(entity=\"gildson\",project=args[\"project_name\"], job_type=\"data_segregation\")\n",
        "\n",
        "logger.info(\"Downloading and reading clean data artifact\")\n",
        "clean_data = run.use_artifact(args[\"artifact_name_feature\"])\n",
        "clean_data_path = clean_data.file()\n",
        "\n",
        "logger.info(\"Downloading and reading label data artifact\")\n",
        "label_data = run.use_artifact(args[\"artifact_name_target\"])\n",
        "label_data_path = label_data.file()\n",
        "\n",
        "# unpacking the artifacts\n",
        "data = joblib.load(clean_data_path)\n",
        "label = joblib.load(label_data_path)"
      ],
      "metadata": {
        "colab": {
          "base_uri": "https://localhost:8080/",
          "height": 121
        },
        "id": "OsCa3Jc75yMq",
        "outputId": "8808caa0-b26d-4ec1-85ec-5da7be52b1d7"
      },
      "execution_count": 6,
      "outputs": [
        {
          "output_type": "stream",
          "name": "stderr",
          "text": [
            "\u001b[34m\u001b[1mwandb\u001b[0m: Currently logged in as: \u001b[33mgildson\u001b[0m. Use \u001b[1m`wandb login --relogin`\u001b[0m to force relogin\n"
          ]
        },
        {
          "output_type": "display_data",
          "data": {
            "text/plain": [
              "<IPython.core.display.HTML object>"
            ],
            "text/html": [
              "Tracking run with wandb version 0.13.5"
            ]
          },
          "metadata": {}
        },
        {
          "output_type": "display_data",
          "data": {
            "text/plain": [
              "<IPython.core.display.HTML object>"
            ],
            "text/html": [
              "Run data is saved locally in <code>/content/wandb/run-20221122_001645-n8nbum1s</code>"
            ]
          },
          "metadata": {}
        },
        {
          "output_type": "display_data",
          "data": {
            "text/plain": [
              "<IPython.core.display.HTML object>"
            ],
            "text/html": [
              "Syncing run <strong><a href=\"https://wandb.ai/gildson/transfer_learning_VGG-16/runs/n8nbum1s\" target=\"_blank\">dauntless-plant-3</a></strong> to <a href=\"https://wandb.ai/gildson/transfer_learning_VGG-16\" target=\"_blank\">Weights & Biases</a> (<a href=\"https://wandb.me/run\" target=\"_blank\">docs</a>)<br/>"
            ]
          },
          "metadata": {}
        },
        {
          "output_type": "stream",
          "name": "stderr",
          "text": [
            "22-11-2022 00:16:46 Downloading and reading clean data artifact\n",
            "22-11-2022 00:16:46 Downloading and reading label data artifact\n"
          ]
        }
      ]
    },
    {
      "cell_type": "code",
      "source": [
        "# partition the data into training and testing splits using 80% of\n",
        "# the data for training and the remaining 20% for testing\n",
        "(train_x, test_x, train_y, test_y) = train_test_split(data, label,test_size=0.20, random_state=42, stratify=label)"
      ],
      "metadata": {
        "id": "xjg1puBq50sy"
      },
      "execution_count": 7,
      "outputs": []
    },
    {
      "cell_type": "code",
      "source": [
        "logger.info(\"Train x: {}\".format(train_x.shape))\n",
        "logger.info(\"Train y: {}\".format(train_y.shape))\n",
        "logger.info(\"Test x: {}\".format(test_x.shape))\n",
        "logger.info(\"Test y: {}\".format(test_y.shape))"
      ],
      "metadata": {
        "colab": {
          "base_uri": "https://localhost:8080/"
        },
        "id": "4JcpnYb8Lf_9",
        "outputId": "4d3cd1db-52ab-4081-8374-c25cb67316ea"
      },
      "execution_count": 8,
      "outputs": [
        {
          "output_type": "stream",
          "name": "stderr",
          "text": [
            "22-11-2022 00:16:53 Train x: (760, 3072)\n",
            "22-11-2022 00:16:53 Train y: (760,)\n",
            "22-11-2022 00:16:53 Test x: (190, 3072)\n",
            "22-11-2022 00:16:53 Test y: (190,)\n"
          ]
        }
      ]
    },
    {
      "cell_type": "code",
      "source": [
        "logger.info(\"Dumping the train and test data artifacts to the disk\")\n",
        "\n",
        "# Save the artifacts using joblib\n",
        "joblib.dump(train_x, args[\"train_feature_artifact\"])\n",
        "joblib.dump(train_y, args[\"train_target_artifact\"])\n",
        "joblib.dump(test_x, args[\"test_feature_artifact\"])\n",
        "joblib.dump(test_y, args[\"test_target_artifact\"])"
      ],
      "metadata": {
        "id": "YHh6k8qlLiOL",
        "colab": {
          "base_uri": "https://localhost:8080/"
        },
        "outputId": "a6fe511c-da32-47ba-80da-61051460f48a"
      },
      "execution_count": 9,
      "outputs": [
        {
          "output_type": "stream",
          "name": "stderr",
          "text": [
            "22-11-2022 00:16:55 Dumping the train and test data artifacts to the disk\n"
          ]
        },
        {
          "output_type": "execute_result",
          "data": {
            "text/plain": [
              "['test_y']"
            ]
          },
          "metadata": {},
          "execution_count": 9
        }
      ]
    },
    {
      "cell_type": "code",
      "source": [
        "# train_x artifact\n",
        "artifact = wandb.Artifact(args[\"train_feature_artifact\"],\n",
        "                          type=\"TRAIN_DATA\",\n",
        "                          description=\"A json file representing the train_x\"\n",
        "                          )\n",
        "\n",
        "logger.info(\"Logging train_x artifact\")\n",
        "artifact.add_file(args[\"train_feature_artifact\"])\n",
        "run.log_artifact(artifact)"
      ],
      "metadata": {
        "colab": {
          "base_uri": "https://localhost:8080/"
        },
        "id": "YM0HlOjyLkqs",
        "outputId": "cb3e40ea-4b25-45d8-939f-58c2e089bec4"
      },
      "execution_count": 10,
      "outputs": [
        {
          "output_type": "stream",
          "name": "stderr",
          "text": [
            "22-11-2022 00:17:00 Logging train_x artifact\n"
          ]
        },
        {
          "output_type": "execute_result",
          "data": {
            "text/plain": [
              "<wandb.sdk.wandb_artifacts.Artifact at 0x7fd91e6202d0>"
            ]
          },
          "metadata": {},
          "execution_count": 10
        }
      ]
    },
    {
      "cell_type": "code",
      "source": [
        "# train_y artifact\n",
        "artifact = wandb.Artifact(args[\"train_target_artifact\"],\n",
        "                          type=\"TRAIN_DATA\",\n",
        "                          description=\"A json file representing the train_y\"\n",
        "                          )\n",
        "\n",
        "logger.info(\"Logging train_y artifact\")\n",
        "artifact.add_file(args[\"train_target_artifact\"])\n",
        "run.log_artifact(artifact)"
      ],
      "metadata": {
        "colab": {
          "base_uri": "https://localhost:8080/"
        },
        "id": "LBaRVGuVLnE4",
        "outputId": "a85d1c65-bc18-459d-d86b-f069100d36d2"
      },
      "execution_count": 11,
      "outputs": [
        {
          "output_type": "stream",
          "name": "stderr",
          "text": [
            "22-11-2022 00:17:02 Logging train_y artifact\n"
          ]
        },
        {
          "output_type": "execute_result",
          "data": {
            "text/plain": [
              "<wandb.sdk.wandb_artifacts.Artifact at 0x7fd9379a9ed0>"
            ]
          },
          "metadata": {},
          "execution_count": 11
        }
      ]
    },
    {
      "cell_type": "code",
      "source": [
        "# test_x artifact\n",
        "artifact = wandb.Artifact(args[\"test_feature_artifact\"],\n",
        "                          type=\"TEST_DATA\",\n",
        "                          description=\"A json file representing the test_x\"\n",
        "                          )\n",
        "\n",
        "logger.info(\"Logging test_x artifact\")\n",
        "artifact.add_file(args[\"test_feature_artifact\"])\n",
        "run.log_artifact(artifact)"
      ],
      "metadata": {
        "colab": {
          "base_uri": "https://localhost:8080/"
        },
        "id": "eWtt4Hm4LpWu",
        "outputId": "f538aa4a-eab9-4ad7-924c-6a6df8425cd0"
      },
      "execution_count": 12,
      "outputs": [
        {
          "output_type": "stream",
          "name": "stderr",
          "text": [
            "22-11-2022 00:17:05 Logging test_x artifact\n"
          ]
        },
        {
          "output_type": "execute_result",
          "data": {
            "text/plain": [
              "<wandb.sdk.wandb_artifacts.Artifact at 0x7fd91cc1ec90>"
            ]
          },
          "metadata": {},
          "execution_count": 12
        }
      ]
    },
    {
      "cell_type": "code",
      "source": [
        "\n",
        "# test_y artifact\n",
        "artifact = wandb.Artifact(args[\"test_target_artifact\"],\n",
        "                          type=\"TEST_DATA\",\n",
        "                          description=\"A json file representing the test_y\"\n",
        "                          )\n",
        "\n",
        "logger.info(\"Logging test_y artifact\")\n",
        "artifact.add_file(args[\"test_target_artifact\"])\n",
        "run.log_artifact(artifact)"
      ],
      "metadata": {
        "colab": {
          "base_uri": "https://localhost:8080/"
        },
        "id": "zNu4Pf7-Lrwt",
        "outputId": "3279a0bb-6a60-4277-e4d5-2779465a67f8"
      },
      "execution_count": 13,
      "outputs": [
        {
          "output_type": "stream",
          "name": "stderr",
          "text": [
            "22-11-2022 00:17:07 Logging test_y artifact\n"
          ]
        },
        {
          "output_type": "execute_result",
          "data": {
            "text/plain": [
              "<wandb.sdk.wandb_artifacts.Artifact at 0x7fd91cc2ac90>"
            ]
          },
          "metadata": {},
          "execution_count": 13
        }
      ]
    },
    {
      "cell_type": "code",
      "source": [
        "run.finish()"
      ],
      "metadata": {
        "colab": {
          "base_uri": "https://localhost:8080/",
          "height": 86
        },
        "id": "eSuy2u7PLt7T",
        "outputId": "caa2a737-2112-4ae8-9063-64701f2b2f8b"
      },
      "execution_count": 14,
      "outputs": [
        {
          "output_type": "display_data",
          "data": {
            "text/plain": [
              "<IPython.core.display.HTML object>"
            ],
            "text/html": [
              "Waiting for W&B process to finish... <strong style=\"color:green\">(success).</strong>"
            ]
          },
          "metadata": {}
        },
        {
          "output_type": "display_data",
          "data": {
            "text/plain": [
              "<IPython.core.display.HTML object>"
            ],
            "text/html": [
              "Synced <strong style=\"color:#cdcd00\">dauntless-plant-3</strong>: <a href=\"https://wandb.ai/gildson/transfer_learning_VGG-16/runs/n8nbum1s\" target=\"_blank\">https://wandb.ai/gildson/transfer_learning_VGG-16/runs/n8nbum1s</a><br/>Synced 5 W&B file(s), 0 media file(s), 4 artifact file(s) and 0 other file(s)"
            ]
          },
          "metadata": {}
        },
        {
          "output_type": "display_data",
          "data": {
            "text/plain": [
              "<IPython.core.display.HTML object>"
            ],
            "text/html": [
              "Find logs at: <code>./wandb/run-20221122_001645-n8nbum1s/logs</code>"
            ]
          },
          "metadata": {}
        }
      ]
    }
  ]
}
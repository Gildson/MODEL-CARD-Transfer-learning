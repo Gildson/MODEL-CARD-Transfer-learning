{
  "nbformat": 4,
  "nbformat_minor": 0,
  "metadata": {
    "colab": {
      "provenance": []
    },
    "kernelspec": {
      "name": "python3",
      "display_name": "Python 3"
    },
    "language_info": {
      "name": "python"
    },
    "accelerator": "GPU",
    "gpuClass": "standard",
    "widgets": {
      "application/vnd.jupyter.widget-state+json": {
        "ff5e71b16afc40aebdfb16767c6a201e": {
          "model_module": "@jupyter-widgets/controls",
          "model_name": "VBoxModel",
          "model_module_version": "1.5.0",
          "state": {
            "_dom_classes": [],
            "_model_module": "@jupyter-widgets/controls",
            "_model_module_version": "1.5.0",
            "_model_name": "VBoxModel",
            "_view_count": null,
            "_view_module": "@jupyter-widgets/controls",
            "_view_module_version": "1.5.0",
            "_view_name": "VBoxView",
            "box_style": "",
            "children": [
              "IPY_MODEL_ed73704dcbab434881b29f8bdaa72255",
              "IPY_MODEL_7a652fbb58f54a7a9de4fa89a5b10e0d"
            ],
            "layout": "IPY_MODEL_a4e54187d65a42ce8cb014cfbaee28c4"
          }
        },
        "ed73704dcbab434881b29f8bdaa72255": {
          "model_module": "@jupyter-widgets/controls",
          "model_name": "LabelModel",
          "model_module_version": "1.5.0",
          "state": {
            "_dom_classes": [],
            "_model_module": "@jupyter-widgets/controls",
            "_model_module_version": "1.5.0",
            "_model_name": "LabelModel",
            "_view_count": null,
            "_view_module": "@jupyter-widgets/controls",
            "_view_module_version": "1.5.0",
            "_view_name": "LabelView",
            "description": "",
            "description_tooltip": null,
            "layout": "IPY_MODEL_ecef22796d7c43cdacdec76049478de5",
            "placeholder": "​",
            "style": "IPY_MODEL_79581b88fba543e18d37c9ccb11dd9ca",
            "value": "97.063 MB of 97.063 MB uploaded (0.000 MB deduped)\r"
          }
        },
        "7a652fbb58f54a7a9de4fa89a5b10e0d": {
          "model_module": "@jupyter-widgets/controls",
          "model_name": "FloatProgressModel",
          "model_module_version": "1.5.0",
          "state": {
            "_dom_classes": [],
            "_model_module": "@jupyter-widgets/controls",
            "_model_module_version": "1.5.0",
            "_model_name": "FloatProgressModel",
            "_view_count": null,
            "_view_module": "@jupyter-widgets/controls",
            "_view_module_version": "1.5.0",
            "_view_name": "ProgressView",
            "bar_style": "",
            "description": "",
            "description_tooltip": null,
            "layout": "IPY_MODEL_8b19f23ebc544b48a3fa925aba659b78",
            "max": 1,
            "min": 0,
            "orientation": "horizontal",
            "style": "IPY_MODEL_e12b07ad26e94617adde827d960516e3",
            "value": 1
          }
        },
        "a4e54187d65a42ce8cb014cfbaee28c4": {
          "model_module": "@jupyter-widgets/base",
          "model_name": "LayoutModel",
          "model_module_version": "1.2.0",
          "state": {
            "_model_module": "@jupyter-widgets/base",
            "_model_module_version": "1.2.0",
            "_model_name": "LayoutModel",
            "_view_count": null,
            "_view_module": "@jupyter-widgets/base",
            "_view_module_version": "1.2.0",
            "_view_name": "LayoutView",
            "align_content": null,
            "align_items": null,
            "align_self": null,
            "border": null,
            "bottom": null,
            "display": null,
            "flex": null,
            "flex_flow": null,
            "grid_area": null,
            "grid_auto_columns": null,
            "grid_auto_flow": null,
            "grid_auto_rows": null,
            "grid_column": null,
            "grid_gap": null,
            "grid_row": null,
            "grid_template_areas": null,
            "grid_template_columns": null,
            "grid_template_rows": null,
            "height": null,
            "justify_content": null,
            "justify_items": null,
            "left": null,
            "margin": null,
            "max_height": null,
            "max_width": null,
            "min_height": null,
            "min_width": null,
            "object_fit": null,
            "object_position": null,
            "order": null,
            "overflow": null,
            "overflow_x": null,
            "overflow_y": null,
            "padding": null,
            "right": null,
            "top": null,
            "visibility": null,
            "width": null
          }
        },
        "ecef22796d7c43cdacdec76049478de5": {
          "model_module": "@jupyter-widgets/base",
          "model_name": "LayoutModel",
          "model_module_version": "1.2.0",
          "state": {
            "_model_module": "@jupyter-widgets/base",
            "_model_module_version": "1.2.0",
            "_model_name": "LayoutModel",
            "_view_count": null,
            "_view_module": "@jupyter-widgets/base",
            "_view_module_version": "1.2.0",
            "_view_name": "LayoutView",
            "align_content": null,
            "align_items": null,
            "align_self": null,
            "border": null,
            "bottom": null,
            "display": null,
            "flex": null,
            "flex_flow": null,
            "grid_area": null,
            "grid_auto_columns": null,
            "grid_auto_flow": null,
            "grid_auto_rows": null,
            "grid_column": null,
            "grid_gap": null,
            "grid_row": null,
            "grid_template_areas": null,
            "grid_template_columns": null,
            "grid_template_rows": null,
            "height": null,
            "justify_content": null,
            "justify_items": null,
            "left": null,
            "margin": null,
            "max_height": null,
            "max_width": null,
            "min_height": null,
            "min_width": null,
            "object_fit": null,
            "object_position": null,
            "order": null,
            "overflow": null,
            "overflow_x": null,
            "overflow_y": null,
            "padding": null,
            "right": null,
            "top": null,
            "visibility": null,
            "width": null
          }
        },
        "79581b88fba543e18d37c9ccb11dd9ca": {
          "model_module": "@jupyter-widgets/controls",
          "model_name": "DescriptionStyleModel",
          "model_module_version": "1.5.0",
          "state": {
            "_model_module": "@jupyter-widgets/controls",
            "_model_module_version": "1.5.0",
            "_model_name": "DescriptionStyleModel",
            "_view_count": null,
            "_view_module": "@jupyter-widgets/base",
            "_view_module_version": "1.2.0",
            "_view_name": "StyleView",
            "description_width": ""
          }
        },
        "8b19f23ebc544b48a3fa925aba659b78": {
          "model_module": "@jupyter-widgets/base",
          "model_name": "LayoutModel",
          "model_module_version": "1.2.0",
          "state": {
            "_model_module": "@jupyter-widgets/base",
            "_model_module_version": "1.2.0",
            "_model_name": "LayoutModel",
            "_view_count": null,
            "_view_module": "@jupyter-widgets/base",
            "_view_module_version": "1.2.0",
            "_view_name": "LayoutView",
            "align_content": null,
            "align_items": null,
            "align_self": null,
            "border": null,
            "bottom": null,
            "display": null,
            "flex": null,
            "flex_flow": null,
            "grid_area": null,
            "grid_auto_columns": null,
            "grid_auto_flow": null,
            "grid_auto_rows": null,
            "grid_column": null,
            "grid_gap": null,
            "grid_row": null,
            "grid_template_areas": null,
            "grid_template_columns": null,
            "grid_template_rows": null,
            "height": null,
            "justify_content": null,
            "justify_items": null,
            "left": null,
            "margin": null,
            "max_height": null,
            "max_width": null,
            "min_height": null,
            "min_width": null,
            "object_fit": null,
            "object_position": null,
            "order": null,
            "overflow": null,
            "overflow_x": null,
            "overflow_y": null,
            "padding": null,
            "right": null,
            "top": null,
            "visibility": null,
            "width": null
          }
        },
        "e12b07ad26e94617adde827d960516e3": {
          "model_module": "@jupyter-widgets/controls",
          "model_name": "ProgressStyleModel",
          "model_module_version": "1.5.0",
          "state": {
            "_model_module": "@jupyter-widgets/controls",
            "_model_module_version": "1.5.0",
            "_model_name": "ProgressStyleModel",
            "_view_count": null,
            "_view_module": "@jupyter-widgets/base",
            "_view_module_version": "1.2.0",
            "_view_name": "StyleView",
            "bar_color": null,
            "description_width": ""
          }
        }
      }
    }
  },
  "cells": [
    {
      "cell_type": "code",
      "execution_count": 1,
      "metadata": {
        "colab": {
          "base_uri": "https://localhost:8080/"
        },
        "id": "7E4zrmDq3uRT",
        "outputId": "962fef6a-55b6-4bc9-9a31-a5a2483e9dfa"
      },
      "outputs": [
        {
          "output_type": "stream",
          "name": "stdout",
          "text": [
            "\u001b[K     |████████████████████████████████| 1.9 MB 5.7 MB/s \n",
            "\u001b[K     |████████████████████████████████| 168 kB 63.9 MB/s \n",
            "\u001b[K     |████████████████████████████████| 182 kB 60.7 MB/s \n",
            "\u001b[K     |████████████████████████████████| 63 kB 1.8 MB/s \n",
            "\u001b[K     |████████████████████████████████| 166 kB 70.9 MB/s \n",
            "\u001b[K     |████████████████████████████████| 166 kB 73.6 MB/s \n",
            "\u001b[K     |████████████████████████████████| 162 kB 62.1 MB/s \n",
            "\u001b[K     |████████████████████████████████| 162 kB 12.4 MB/s \n",
            "\u001b[K     |████████████████████████████████| 158 kB 69.9 MB/s \n",
            "\u001b[K     |████████████████████████████████| 157 kB 64.5 MB/s \n",
            "\u001b[K     |████████████████████████████████| 157 kB 66.2 MB/s \n",
            "\u001b[K     |████████████████████████████████| 157 kB 68.0 MB/s \n",
            "\u001b[K     |████████████████████████████████| 157 kB 67.1 MB/s \n",
            "\u001b[K     |████████████████████████████████| 157 kB 53.7 MB/s \n",
            "\u001b[K     |████████████████████████████████| 157 kB 47.1 MB/s \n",
            "\u001b[K     |████████████████████████████████| 157 kB 69.4 MB/s \n",
            "\u001b[K     |████████████████████████████████| 156 kB 64.3 MB/s \n",
            "\u001b[?25h  Building wheel for pathtools (setup.py) ... \u001b[?25l\u001b[?25hdone\n"
          ]
        }
      ],
      "source": [
        "!pip install wandb -qU"
      ]
    },
    {
      "cell_type": "code",
      "source": [
        "import wandb\n",
        "wandb.login()"
      ],
      "metadata": {
        "colab": {
          "base_uri": "https://localhost:8080/",
          "height": 139
        },
        "id": "9StIgCmH34cx",
        "outputId": "488fc50b-64a4-4ff2-d1e4-89f8e23ad447"
      },
      "execution_count": 2,
      "outputs": [
        {
          "output_type": "stream",
          "name": "stderr",
          "text": [
            "ERROR:wandb.jupyter:Failed to detect the name of this notebook, you can set it manually with the WANDB_NOTEBOOK_NAME environment variable to enable code saving.\n"
          ]
        },
        {
          "output_type": "display_data",
          "data": {
            "text/plain": [
              "<IPython.core.display.Javascript object>"
            ],
            "application/javascript": [
              "\n",
              "        window._wandbApiKey = new Promise((resolve, reject) => {\n",
              "            function loadScript(url) {\n",
              "            return new Promise(function(resolve, reject) {\n",
              "                let newScript = document.createElement(\"script\");\n",
              "                newScript.onerror = reject;\n",
              "                newScript.onload = resolve;\n",
              "                document.body.appendChild(newScript);\n",
              "                newScript.src = url;\n",
              "            });\n",
              "            }\n",
              "            loadScript(\"https://cdn.jsdelivr.net/npm/postmate/build/postmate.min.js\").then(() => {\n",
              "            const iframe = document.createElement('iframe')\n",
              "            iframe.style.cssText = \"width:0;height:0;border:none\"\n",
              "            document.body.appendChild(iframe)\n",
              "            const handshake = new Postmate({\n",
              "                container: iframe,\n",
              "                url: 'https://wandb.ai/authorize'\n",
              "            });\n",
              "            const timeout = setTimeout(() => reject(\"Couldn't auto authenticate\"), 5000)\n",
              "            handshake.then(function(child) {\n",
              "                child.on('authorize', data => {\n",
              "                    clearTimeout(timeout)\n",
              "                    resolve(data)\n",
              "                });\n",
              "            });\n",
              "            })\n",
              "        });\n",
              "    "
            ]
          },
          "metadata": {}
        },
        {
          "output_type": "stream",
          "name": "stderr",
          "text": [
            "\u001b[34m\u001b[1mwandb\u001b[0m: Logging into wandb.ai. (Learn how to deploy a W&B server locally: https://wandb.me/wandb-server)\n",
            "\u001b[34m\u001b[1mwandb\u001b[0m: You can find your API key in your browser here: https://wandb.ai/authorize\n",
            "wandb: Paste an API key from your profile and hit enter, or press ctrl+c to quit: "
          ]
        },
        {
          "name": "stdout",
          "output_type": "stream",
          "text": [
            "··········\n"
          ]
        },
        {
          "output_type": "stream",
          "name": "stderr",
          "text": [
            "\u001b[34m\u001b[1mwandb\u001b[0m: Appending key for api.wandb.ai to your netrc file: /root/.netrc\n"
          ]
        },
        {
          "output_type": "execute_result",
          "data": {
            "text/plain": [
              "True"
            ]
          },
          "metadata": {},
          "execution_count": 2
        }
      ]
    },
    {
      "cell_type": "code",
      "source": [
        "# import the necessary packages\n",
        "from imutils import paths\n",
        "import logging\n",
        "import os\n",
        "import cv2\n",
        "import numpy as np\n",
        "import joblib"
      ],
      "metadata": {
        "id": "M1uBBBJ5393H"
      },
      "execution_count": 3,
      "outputs": []
    },
    {
      "cell_type": "code",
      "source": [
        "# configure logging\n",
        "# reference for a logging obj\n",
        "logger = logging.getLogger()\n",
        "\n",
        "# set level of logging\n",
        "logger.setLevel(logging.INFO)\n",
        "\n",
        "# create handlers\n",
        "c_handler = logging.StreamHandler()\n",
        "c_format = logging.Formatter(fmt=\"%(asctime)s %(message)s\",datefmt='%d-%m-%Y %H:%M:%S')\n",
        "c_handler.setFormatter(c_format)\n",
        "\n",
        "# add handler to the logger\n",
        "logger.handlers[0] = c_handler"
      ],
      "metadata": {
        "id": "ynOAGpUV3-12"
      },
      "execution_count": 4,
      "outputs": []
    },
    {
      "cell_type": "code",
      "source": [
        "# since we are using Jupyter Notebooks we can replace our argument\n",
        "# parsing code with *hard coded* arguments and values\n",
        "args = {\n",
        "\t\"dataset\": \"dataset\",\n",
        "  \"project_name\": \"transfer_learning_VGG-16\",\n",
        "  \"artifact_name\": \"animals_raw_data:latest\",\n",
        "  \"eda_name\": \"eda_animals\"\n",
        "}"
      ],
      "metadata": {
        "id": "oUel4hn24N5Z"
      },
      "execution_count": 5,
      "outputs": []
    },
    {
      "cell_type": "code",
      "source": [
        "# open the W&B project created in the Fetch step\n",
        "run = wandb.init(entity=\"gildson\",project=args[\"project_name\"], job_type=\"preprocessing\")\n",
        "\n",
        "# download the raw data from W&B\n",
        "raw_data = run.use_artifact(args[\"artifact_name\"])\n",
        "data_dir = raw_data.download()\n",
        "logger.info(\"Path: {}\".format(data_dir))"
      ],
      "metadata": {
        "colab": {
          "base_uri": "https://localhost:8080/",
          "height": 156
        },
        "id": "p7s36O7t4QQi",
        "outputId": "7b5638a6-6c0f-4bbb-cf47-7d41a8b5e689"
      },
      "execution_count": 6,
      "outputs": [
        {
          "output_type": "stream",
          "name": "stderr",
          "text": [
            "\u001b[34m\u001b[1mwandb\u001b[0m: Currently logged in as: \u001b[33mgildson\u001b[0m. Use \u001b[1m`wandb login --relogin`\u001b[0m to force relogin\n"
          ]
        },
        {
          "output_type": "display_data",
          "data": {
            "text/plain": [
              "<IPython.core.display.HTML object>"
            ],
            "text/html": [
              "Tracking run with wandb version 0.13.5"
            ]
          },
          "metadata": {}
        },
        {
          "output_type": "display_data",
          "data": {
            "text/plain": [
              "<IPython.core.display.HTML object>"
            ],
            "text/html": [
              "Run data is saved locally in <code>/content/wandb/run-20221122_001403-fea3n8qc</code>"
            ]
          },
          "metadata": {}
        },
        {
          "output_type": "display_data",
          "data": {
            "text/plain": [
              "<IPython.core.display.HTML object>"
            ],
            "text/html": [
              "Syncing run <strong><a href=\"https://wandb.ai/gildson/transfer_learning_VGG-16/runs/fea3n8qc\" target=\"_blank\">chocolate-violet-2</a></strong> to <a href=\"https://wandb.ai/gildson/transfer_learning_VGG-16\" target=\"_blank\">Weights & Biases</a> (<a href=\"https://wandb.me/run\" target=\"_blank\">docs</a>)<br/>"
            ]
          },
          "metadata": {}
        },
        {
          "output_type": "stream",
          "name": "stderr",
          "text": [
            "\u001b[34m\u001b[1mwandb\u001b[0m: Downloading large artifact animals_raw_data:latest, 94.21MB. 950 files... \n",
            "\u001b[34m\u001b[1mwandb\u001b[0m:   950 of 950 files downloaded.  \n",
            "Done. 0:0:9.1\n",
            "22-11-2022 00:14:14 Path: ./artifacts/animals_raw_data:v0\n"
          ]
        }
      ]
    },
    {
      "cell_type": "code",
      "source": [
        "# create a table with columns we want to track/compare\n",
        "preview_dt = wandb.Table(columns=[\"id\", \"image\", \"label\",\"size\"])\n",
        "\n",
        "# create a new artifact to store the EDA data\n",
        "eda_data = wandb.Artifact(args[\"eda_name\"], type=\"eda_data\")"
      ],
      "metadata": {
        "id": "-nMCtphH4ViN"
      },
      "execution_count": 7,
      "outputs": []
    },
    {
      "cell_type": "code",
      "source": [
        "# grab the list of images that we'll be describing\n",
        "imagePaths = list(paths.list_images(data_dir))\n",
        "\n",
        "# append all images to the artifact\n",
        "for img in imagePaths:\n",
        "  \"img example: ./artifacts/animals_raw_data:v0/dogs/dogs_00892.jpg\"\n",
        "  label = img.split(os.path.sep)\n",
        "  image = cv2.imread(img)\n",
        "  preview_dt.add_data(label[-1], wandb.Image(img), label[-2], str(image.shape[0]) + \" X \" + str(image.shape[1]))"
      ],
      "metadata": {
        "id": "fO2eivvT4ZlH"
      },
      "execution_count": 8,
      "outputs": []
    },
    {
      "cell_type": "code",
      "source": [
        "# save artifact to W&B\n",
        "eda_data.add(preview_dt, \"EDA_Table\")\n",
        "run.log_artifact(eda_data)"
      ],
      "metadata": {
        "colab": {
          "base_uri": "https://localhost:8080/"
        },
        "id": "A2v-eHcW4blz",
        "outputId": "425d40c9-0e21-49da-97d4-e839c083dd86"
      },
      "execution_count": 9,
      "outputs": [
        {
          "output_type": "execute_result",
          "data": {
            "text/plain": [
              "<wandb.sdk.wandb_artifacts.Artifact at 0x7fd33b2c07d0>"
            ]
          },
          "metadata": {},
          "execution_count": 9
        }
      ]
    },
    {
      "cell_type": "markdown",
      "source": [
        "Limpeza dos dados"
      ],
      "metadata": {
        "id": "z2MfH5fz4k4g"
      }
    },
    {
      "cell_type": "code",
      "source": [
        "# since we are using Jupyter Notebooks we can replace our argument\n",
        "# parsing code with *hard coded* arguments and values\n",
        "args = {\n",
        "\t\"dataset\": \"clean_data\",\n",
        "  \"label\": \"label\",\n",
        "  \"project_name\": \"transfer_learning_VGG-16\",\n",
        "  \"artifact_name\": \"animals_raw_data:latest\"\n",
        "}"
      ],
      "metadata": {
        "id": "A7L1A05m4jiw"
      },
      "execution_count": 10,
      "outputs": []
    },
    {
      "cell_type": "code",
      "source": [
        "# download the raw data from W&B\n",
        "raw_data = run.use_artifact(args[\"artifact_name\"])\n",
        "data_dir = raw_data.download()\n",
        "logger.info(\"Path: {}\".format(data_dir))"
      ],
      "metadata": {
        "colab": {
          "base_uri": "https://localhost:8080/"
        },
        "id": "pEPKF_Hx4ojq",
        "outputId": "e0526276-c0c2-4747-f76f-c2950f35bc2d"
      },
      "execution_count": 11,
      "outputs": [
        {
          "output_type": "stream",
          "name": "stderr",
          "text": [
            "\u001b[34m\u001b[1mwandb\u001b[0m: Downloading large artifact animals_raw_data:latest, 94.21MB. 950 files... \n",
            "\u001b[34m\u001b[1mwandb\u001b[0m:   950 of 950 files downloaded.  \n",
            "Done. 0:0:0.3\n",
            "22-11-2022 00:14:35 Path: ./artifacts/animals_raw_data:v0\n"
          ]
        }
      ]
    },
    {
      "cell_type": "code",
      "source": [
        "# a basic simple preprocessor\n",
        "class SimplePreprocessor:\n",
        "\tdef __init__(self, width, height, inter=cv2.INTER_AREA):\n",
        "\t\t# store the target image width, height, and interpolation\n",
        "\t\t# method used when resizing\n",
        "\t\tself.width = width\n",
        "\t\tself.height = height\n",
        "\t\tself.inter = inter\n",
        "\n",
        "\tdef preprocess(self, image):\n",
        "\t\t# resize the image to a fixed size, ignoring the aspect\n",
        "\t\t# ratio\n",
        "\t\treturn cv2.resize(image, (self.width, self.height),interpolation=self.inter)"
      ],
      "metadata": {
        "id": "c5s6AOTv4vt8"
      },
      "execution_count": 12,
      "outputs": []
    },
    {
      "cell_type": "code",
      "source": [
        "# Building an image loader\n",
        "class SimpleDatasetLoader:\n",
        "  def __init__(self, preprocessors=None, logger=None):\n",
        "\t\t# store the image preprocessor\n",
        "    self.preprocessors = preprocessors\n",
        "    self.logger = logger\n",
        "\n",
        "\t\t# if the preprocessors are None, initialize them as an\n",
        "\t\t# empty list\n",
        "    if self.preprocessors is None:\n",
        "      self.preprocessors = []\n",
        "\n",
        "  def load(self, imagePaths, verbose=-1):\n",
        "\t\t# initialize the list of features and labels\n",
        "    data = []\n",
        "    labels = []\n",
        "\n",
        "\t\t# loop over the input images\n",
        "    for (i, imagePath) in enumerate(imagePaths):\n",
        "\t\t\t# load the image and extract the class label assuming\n",
        "\t\t\t# that our path has the following format:\n",
        "\t\t\t# /path/to/dataset/{class}/{image}.jpg\n",
        "\t\t\t# e.g \"img example: ./artifacts/animals_raw_data:v0/dogs/dogs_00892.jpg\"\n",
        "\t\t\t# imagePath.split(os.path.sep)[-2] will return \"dogs\"\n",
        "      image = cv2.imread(imagePath)\n",
        "      label = imagePath.split(os.path.sep)[-2]\n",
        "\n",
        "      # check to see if our preprocessors are not None\n",
        "      if self.preprocessors is not None:\n",
        "\t\t\t\t# loop over the preprocessors and apply each to\n",
        "\t\t\t\t# the image\n",
        "        for p in self.preprocessors:\n",
        "          image = p.preprocess(image)\n",
        "\n",
        "\t\t\t# treat our processed image as a \"feature vector\"\n",
        "\t\t\t# by updating the data list followed by the labels\n",
        "      data.append(image)\n",
        "      labels.append(label)\n",
        "   \n",
        "\t\t\t# show an update every `verbose` images\n",
        "      if verbose > 0 and i > 0 and (i + 1) % verbose == 0:\n",
        "        logger.info(\"[INFO] processed {}/{}\".format(i + 1,len(imagePaths)))\n",
        "\n",
        "\t\t# return a tuple of the data and labels\n",
        "    return (np.array(data), np.array(labels))"
      ],
      "metadata": {
        "id": "CFFz7RFx4ycJ"
      },
      "execution_count": 13,
      "outputs": []
    },
    {
      "cell_type": "code",
      "source": [
        "# grab the list of images that we'll be describing\n",
        "logger.info(\"[INFO] preprocessing images...\")\n",
        "imagePaths = list(paths.list_images(data_dir))\n",
        "\n",
        "# initialize the image preprocessor, load the dataset from disk,\n",
        "# and reshape the data matrix\n",
        "sp = SimplePreprocessor(32, 32)\n",
        "sdl = SimpleDatasetLoader(preprocessors=[sp],logger=logger)\n",
        "(data, labels) = sdl.load(imagePaths, verbose=500)\n",
        "# 32 x 32 x 3 = 3072\n",
        "data = data.reshape((data.shape[0], 3072))\n",
        "\n",
        "# show some information on memory consumption of the images\n",
        "logger.info(\"[INFO] features matrix: {:.1f}MB\".format(data.nbytes / (1024 * 1024)))"
      ],
      "metadata": {
        "colab": {
          "base_uri": "https://localhost:8080/"
        },
        "id": "jJaNCqbC40Uy",
        "outputId": "79227e87-fefb-42e3-bf70-7f35ea5fdc99"
      },
      "execution_count": 14,
      "outputs": [
        {
          "output_type": "stream",
          "name": "stderr",
          "text": [
            "22-11-2022 00:14:43 [INFO] preprocessing images...\n",
            "22-11-2022 00:14:46 [INFO] processed 500/950\n",
            "22-11-2022 00:14:48 [INFO] features matrix: 2.8MB\n"
          ]
        }
      ]
    },
    {
      "cell_type": "code",
      "source": [
        "logger.info(\"Data shape: {}\".format(data.shape))\n",
        "logger.info(\"Label shape: {}\".format(labels.shape))"
      ],
      "metadata": {
        "colab": {
          "base_uri": "https://localhost:8080/"
        },
        "id": "NNZrrvhR41zK",
        "outputId": "46ef4a7e-a6f2-4d70-e90c-d33a175be6e5"
      },
      "execution_count": 15,
      "outputs": [
        {
          "output_type": "stream",
          "name": "stderr",
          "text": [
            "22-11-2022 00:14:50 Data shape: (950, 3072)\n",
            "22-11-2022 00:14:50 Label shape: (950,)\n"
          ]
        }
      ]
    },
    {
      "cell_type": "code",
      "source": [
        "logger.info(\"Dumping the clean data artifacts to disk\")\n",
        "# Save the feature artifacts using joblib\n",
        "joblib.dump(data, args[\"dataset\"])\n",
        "\n",
        "# Save the target using joblib\n",
        "joblib.dump(labels, args[\"label\"])"
      ],
      "metadata": {
        "colab": {
          "base_uri": "https://localhost:8080/"
        },
        "id": "iagpKYUv429i",
        "outputId": "659578df-aef8-46f2-f42d-29c04264cd69"
      },
      "execution_count": 16,
      "outputs": [
        {
          "output_type": "stream",
          "name": "stderr",
          "text": [
            "22-11-2022 00:14:55 Dumping the clean data artifacts to disk\n"
          ]
        },
        {
          "output_type": "execute_result",
          "data": {
            "text/plain": [
              "['label']"
            ]
          },
          "metadata": {},
          "execution_count": 16
        }
      ]
    },
    {
      "cell_type": "code",
      "source": [
        "# clean data artifact\n",
        "artifact = wandb.Artifact(args[\"dataset\"],\n",
        "                          type=\"CLEAN_DATA\",\n",
        "                          description=\"A json file representing the clean and preprocessed data\"\n",
        "                          )\n",
        "\n",
        "logger.info(\"Logging clean data artifact\")\n",
        "artifact.add_file(args[\"dataset\"])\n",
        "run.log_artifact(artifact)"
      ],
      "metadata": {
        "colab": {
          "base_uri": "https://localhost:8080/"
        },
        "id": "rbTUaiHI44TV",
        "outputId": "8a6bc76a-39f3-443e-8c9a-4585b7182f64"
      },
      "execution_count": 17,
      "outputs": [
        {
          "output_type": "stream",
          "name": "stderr",
          "text": [
            "22-11-2022 00:14:57 Logging clean data artifact\n"
          ]
        },
        {
          "output_type": "execute_result",
          "data": {
            "text/plain": [
              "<wandb.sdk.wandb_artifacts.Artifact at 0x7fd34c0f0f50>"
            ]
          },
          "metadata": {},
          "execution_count": 17
        }
      ]
    },
    {
      "cell_type": "code",
      "source": [
        "# clean label artifact\n",
        "artifact = wandb.Artifact(args[\"label\"],\n",
        "                          type=\"CLEAN_DATA\",\n",
        "                          description=\"A json file representing the clean label\"\n",
        "                          )\n",
        "\n",
        "logger.info(\"Logging clean label artifact\")\n",
        "artifact.add_file(args[\"label\"])\n",
        "run.log_artifact(artifact)"
      ],
      "metadata": {
        "colab": {
          "base_uri": "https://localhost:8080/"
        },
        "id": "rtYc3jvy454p",
        "outputId": "03d2357f-1cf2-4ba8-9640-a08eb09fae75"
      },
      "execution_count": 18,
      "outputs": [
        {
          "output_type": "stream",
          "name": "stderr",
          "text": [
            "22-11-2022 00:15:01 Logging clean label artifact\n"
          ]
        },
        {
          "output_type": "execute_result",
          "data": {
            "text/plain": [
              "<wandb.sdk.wandb_artifacts.Artifact at 0x7fd34c0f0c90>"
            ]
          },
          "metadata": {},
          "execution_count": 18
        }
      ]
    },
    {
      "cell_type": "code",
      "source": [
        "run.finish()"
      ],
      "metadata": {
        "colab": {
          "base_uri": "https://localhost:8080/",
          "height": 150,
          "referenced_widgets": [
            "ff5e71b16afc40aebdfb16767c6a201e",
            "ed73704dcbab434881b29f8bdaa72255",
            "7a652fbb58f54a7a9de4fa89a5b10e0d",
            "a4e54187d65a42ce8cb014cfbaee28c4",
            "ecef22796d7c43cdacdec76049478de5",
            "79581b88fba543e18d37c9ccb11dd9ca",
            "8b19f23ebc544b48a3fa925aba659b78",
            "e12b07ad26e94617adde827d960516e3"
          ]
        },
        "id": "bWVBDq6b47Bp",
        "outputId": "a0b8df3e-a7ec-4fc5-ee31-e901defd4cb2"
      },
      "execution_count": 19,
      "outputs": [
        {
          "output_type": "display_data",
          "data": {
            "text/plain": [
              "<IPython.core.display.HTML object>"
            ],
            "text/html": [
              "Waiting for W&B process to finish... <strong style=\"color:green\">(success).</strong>"
            ]
          },
          "metadata": {}
        },
        {
          "output_type": "display_data",
          "data": {
            "text/plain": [
              "VBox(children=(Label(value='97.063 MB of 97.063 MB uploaded (0.000 MB deduped)\\r'), FloatProgress(value=1.0, m…"
            ],
            "application/vnd.jupyter.widget-view+json": {
              "version_major": 2,
              "version_minor": 0,
              "model_id": "ff5e71b16afc40aebdfb16767c6a201e"
            }
          },
          "metadata": {}
        },
        {
          "output_type": "display_data",
          "data": {
            "text/plain": [
              "<IPython.core.display.HTML object>"
            ],
            "text/html": [
              "Synced <strong style=\"color:#cdcd00\">chocolate-violet-2</strong>: <a href=\"https://wandb.ai/gildson/transfer_learning_VGG-16/runs/fea3n8qc\" target=\"_blank\">https://wandb.ai/gildson/transfer_learning_VGG-16/runs/fea3n8qc</a><br/>Synced 5 W&B file(s), 0 media file(s), 951 artifact file(s) and 0 other file(s)"
            ]
          },
          "metadata": {}
        },
        {
          "output_type": "display_data",
          "data": {
            "text/plain": [
              "<IPython.core.display.HTML object>"
            ],
            "text/html": [
              "Find logs at: <code>./wandb/run-20221122_001403-fea3n8qc/logs</code>"
            ]
          },
          "metadata": {}
        }
      ]
    }
  ]
}
{
  "nbformat": 4,
  "nbformat_minor": 0,
  "metadata": {
    "colab": {
      "provenance": []
    },
    "kernelspec": {
      "name": "python3",
      "display_name": "Python 3"
    },
    "language_info": {
      "name": "python"
    }
  },
  "cells": [
    {
      "cell_type": "code",
      "execution_count": null,
      "metadata": {
        "colab": {
          "base_uri": "https://localhost:8080/"
        },
        "id": "7E4zrmDq3uRT",
        "outputId": "74a74dc7-d73c-4f31-b4c5-babfd00ac36d"
      },
      "outputs": [
        {
          "output_type": "stream",
          "name": "stdout",
          "text": [
            "\u001b[K     |████████████████████████████████| 1.9 MB 5.2 MB/s \n",
            "\u001b[K     |████████████████████████████████| 182 kB 49.3 MB/s \n",
            "\u001b[K     |████████████████████████████████| 168 kB 57.4 MB/s \n",
            "\u001b[K     |████████████████████████████████| 63 kB 1.5 MB/s \n",
            "\u001b[K     |████████████████████████████████| 166 kB 69.1 MB/s \n",
            "\u001b[K     |████████████████████████████████| 166 kB 68.2 MB/s \n",
            "\u001b[K     |████████████████████████████████| 162 kB 66.8 MB/s \n",
            "\u001b[K     |████████████████████████████████| 162 kB 58.7 MB/s \n",
            "\u001b[K     |████████████████████████████████| 158 kB 65.1 MB/s \n",
            "\u001b[K     |████████████████████████████████| 157 kB 44.4 MB/s \n",
            "\u001b[K     |████████████████████████████████| 157 kB 42.1 MB/s \n",
            "\u001b[K     |████████████████████████████████| 157 kB 45.6 MB/s \n",
            "\u001b[K     |████████████████████████████████| 157 kB 46.1 MB/s \n",
            "\u001b[K     |████████████████████████████████| 157 kB 47.0 MB/s \n",
            "\u001b[K     |████████████████████████████████| 157 kB 41.0 MB/s \n",
            "\u001b[K     |████████████████████████████████| 157 kB 46.6 MB/s \n",
            "\u001b[K     |████████████████████████████████| 156 kB 7.4 MB/s \n",
            "\u001b[?25h  Building wheel for pathtools (setup.py) ... \u001b[?25l\u001b[?25hdone\n"
          ]
        }
      ],
      "source": [
        "!pip install wandb -qU"
      ]
    },
    {
      "cell_type": "code",
      "source": [
        "import wandb\n",
        "wandb.login()"
      ],
      "metadata": {
        "colab": {
          "base_uri": "https://localhost:8080/",
          "height": 139
        },
        "id": "9StIgCmH34cx",
        "outputId": "7198c2f7-7766-42c1-e0a5-036170ac7ed6"
      },
      "execution_count": null,
      "outputs": [
        {
          "output_type": "stream",
          "name": "stderr",
          "text": [
            "ERROR:wandb.jupyter:Failed to detect the name of this notebook, you can set it manually with the WANDB_NOTEBOOK_NAME environment variable to enable code saving.\n"
          ]
        },
        {
          "output_type": "display_data",
          "data": {
            "text/plain": [
              "<IPython.core.display.Javascript object>"
            ],
            "application/javascript": [
              "\n",
              "        window._wandbApiKey = new Promise((resolve, reject) => {\n",
              "            function loadScript(url) {\n",
              "            return new Promise(function(resolve, reject) {\n",
              "                let newScript = document.createElement(\"script\");\n",
              "                newScript.onerror = reject;\n",
              "                newScript.onload = resolve;\n",
              "                document.body.appendChild(newScript);\n",
              "                newScript.src = url;\n",
              "            });\n",
              "            }\n",
              "            loadScript(\"https://cdn.jsdelivr.net/npm/postmate/build/postmate.min.js\").then(() => {\n",
              "            const iframe = document.createElement('iframe')\n",
              "            iframe.style.cssText = \"width:0;height:0;border:none\"\n",
              "            document.body.appendChild(iframe)\n",
              "            const handshake = new Postmate({\n",
              "                container: iframe,\n",
              "                url: 'https://wandb.ai/authorize'\n",
              "            });\n",
              "            const timeout = setTimeout(() => reject(\"Couldn't auto authenticate\"), 5000)\n",
              "            handshake.then(function(child) {\n",
              "                child.on('authorize', data => {\n",
              "                    clearTimeout(timeout)\n",
              "                    resolve(data)\n",
              "                });\n",
              "            });\n",
              "            })\n",
              "        });\n",
              "    "
            ]
          },
          "metadata": {}
        },
        {
          "output_type": "stream",
          "name": "stderr",
          "text": [
            "\u001b[34m\u001b[1mwandb\u001b[0m: Logging into wandb.ai. (Learn how to deploy a W&B server locally: https://wandb.me/wandb-server)\n",
            "\u001b[34m\u001b[1mwandb\u001b[0m: You can find your API key in your browser here: https://wandb.ai/authorize\n",
            "wandb: Paste an API key from your profile and hit enter, or press ctrl+c to quit: "
          ]
        },
        {
          "name": "stdout",
          "output_type": "stream",
          "text": [
            "··········\n"
          ]
        },
        {
          "output_type": "stream",
          "name": "stderr",
          "text": [
            "\u001b[34m\u001b[1mwandb\u001b[0m: Appending key for api.wandb.ai to your netrc file: /root/.netrc\n"
          ]
        },
        {
          "output_type": "execute_result",
          "data": {
            "text/plain": [
              "True"
            ]
          },
          "metadata": {},
          "execution_count": 2
        }
      ]
    },
    {
      "cell_type": "code",
      "source": [
        "# import the necessary packages\n",
        "from imutils import paths\n",
        "import logging\n",
        "import os\n",
        "import cv2\n",
        "import numpy as np\n",
        "import joblib"
      ],
      "metadata": {
        "id": "M1uBBBJ5393H"
      },
      "execution_count": null,
      "outputs": []
    },
    {
      "cell_type": "code",
      "source": [
        "# configure logging\n",
        "# reference for a logging obj\n",
        "logger = logging.getLogger()\n",
        "\n",
        "# set level of logging\n",
        "logger.setLevel(logging.INFO)\n",
        "\n",
        "# create handlers\n",
        "c_handler = logging.StreamHandler()\n",
        "c_format = logging.Formatter(fmt=\"%(asctime)s %(message)s\",datefmt='%d-%m-%Y %H:%M:%S')\n",
        "c_handler.setFormatter(c_format)\n",
        "\n",
        "# add handler to the logger\n",
        "logger.handlers[0] = c_handler"
      ],
      "metadata": {
        "id": "ynOAGpUV3-12"
      },
      "execution_count": null,
      "outputs": []
    },
    {
      "cell_type": "code",
      "source": [
        "# since we are using Jupyter Notebooks we can replace our argument\n",
        "# parsing code with *hard coded* arguments and values\n",
        "args = {\n",
        "\t\"dataset\": \"dataset\",\n",
        "  \"project_name\": \"transfer_learning_VGG-16\",\n",
        "  \"artifact_name\": \"animals_raw_data:latest\",\n",
        "  \"eda_name\": \"eda_animals\"\n",
        "}"
      ],
      "metadata": {
        "id": "oUel4hn24N5Z"
      },
      "execution_count": null,
      "outputs": []
    },
    {
      "cell_type": "code",
      "source": [
        "# open the W&B project created in the Fetch step\n",
        "run = wandb.init(entity=\"gildson\",project=args[\"project_name\"], job_type=\"preprocessing\")\n",
        "\n",
        "# download the raw data from W&B\n",
        "raw_data = run.use_artifact(args[\"artifact_name\"])\n",
        "data_dir = raw_data.download()\n",
        "logger.info(\"Path: {}\".format(data_dir))"
      ],
      "metadata": {
        "colab": {
          "base_uri": "https://localhost:8080/",
          "height": 156
        },
        "id": "p7s36O7t4QQi",
        "outputId": "a55c0fc0-6c23-49f1-e29d-33e07aa8ba6f"
      },
      "execution_count": null,
      "outputs": [
        {
          "output_type": "stream",
          "name": "stderr",
          "text": [
            "\u001b[34m\u001b[1mwandb\u001b[0m: Currently logged in as: \u001b[33mgildson\u001b[0m. Use \u001b[1m`wandb login --relogin`\u001b[0m to force relogin\n"
          ]
        },
        {
          "output_type": "display_data",
          "data": {
            "text/plain": [
              "<IPython.core.display.HTML object>"
            ],
            "text/html": [
              "Tracking run with wandb version 0.13.5"
            ]
          },
          "metadata": {}
        },
        {
          "output_type": "display_data",
          "data": {
            "text/plain": [
              "<IPython.core.display.HTML object>"
            ],
            "text/html": [
              "Run data is saved locally in <code>/content/wandb/run-20221116_124226-3d1v0yxl</code>"
            ]
          },
          "metadata": {}
        },
        {
          "output_type": "display_data",
          "data": {
            "text/plain": [
              "<IPython.core.display.HTML object>"
            ],
            "text/html": [
              "Syncing run <strong><a href=\"https://wandb.ai/gildson/transfer_learning_VGG-16/runs/3d1v0yxl\" target=\"_blank\">azure-lion-5</a></strong> to <a href=\"https://wandb.ai/gildson/transfer_learning_VGG-16\" target=\"_blank\">Weights & Biases</a> (<a href=\"https://wandb.me/run\" target=\"_blank\">docs</a>)<br/>"
            ]
          },
          "metadata": {}
        },
        {
          "output_type": "stream",
          "name": "stderr",
          "text": [
            "\u001b[34m\u001b[1mwandb\u001b[0m: Downloading large artifact animals_raw_data:latest, 94.21MB. 950 files... \n",
            "\u001b[34m\u001b[1mwandb\u001b[0m:   950 of 950 files downloaded.  \n",
            "Done. 0:0:14.2\n",
            "16-11-2022 12:42:42 Path: ./artifacts/animals_raw_data:v0\n"
          ]
        }
      ]
    },
    {
      "cell_type": "code",
      "source": [
        "# create a table with columns we want to track/compare\n",
        "preview_dt = wandb.Table(columns=[\"id\", \"image\", \"label\",\"size\"])\n",
        "\n",
        "# create a new artifact to store the EDA data\n",
        "eda_data = wandb.Artifact(args[\"eda_name\"], type=\"eda_data\")"
      ],
      "metadata": {
        "id": "-nMCtphH4ViN"
      },
      "execution_count": null,
      "outputs": []
    },
    {
      "cell_type": "code",
      "source": [
        "# grab the list of images that we'll be describing\n",
        "imagePaths = list(paths.list_images(data_dir))\n",
        "\n",
        "# append all images to the artifact\n",
        "for img in imagePaths:\n",
        "  \"img example: ./artifacts/animals_raw_data:v0/dogs/dogs_00892.jpg\"\n",
        "  label = img.split(os.path.sep)\n",
        "  image = cv2.imread(img)\n",
        "  preview_dt.add_data(label[-1], wandb.Image(img), label[-2], str(image.shape[0]) + \" X \" + str(image.shape[1]))"
      ],
      "metadata": {
        "id": "fO2eivvT4ZlH"
      },
      "execution_count": null,
      "outputs": []
    },
    {
      "cell_type": "code",
      "source": [
        "# save artifact to W&B\n",
        "eda_data.add(preview_dt, \"EDA_Table\")\n",
        "run.log_artifact(eda_data)"
      ],
      "metadata": {
        "colab": {
          "base_uri": "https://localhost:8080/"
        },
        "id": "A2v-eHcW4blz",
        "outputId": "eee274c7-a779-4b31-e91a-3721b3aef53e"
      },
      "execution_count": null,
      "outputs": [
        {
          "output_type": "execute_result",
          "data": {
            "text/plain": [
              "<wandb.sdk.wandb_artifacts.Artifact at 0x7f5c17913ad0>"
            ]
          },
          "metadata": {},
          "execution_count": 9
        }
      ]
    },
    {
      "cell_type": "markdown",
      "source": [
        "Limpeza dos dados"
      ],
      "metadata": {
        "id": "z2MfH5fz4k4g"
      }
    },
    {
      "cell_type": "code",
      "source": [
        "# since we are using Jupyter Notebooks we can replace our argument\n",
        "# parsing code with *hard coded* arguments and values\n",
        "args = {\n",
        "\t\"dataset\": \"clean_data\",\n",
        "  \"label\": \"label\",\n",
        "  \"project_name\": \"transfer_learning_VGG-16\",\n",
        "  \"artifact_name\": \"animals_raw_data:latest\"\n",
        "}"
      ],
      "metadata": {
        "id": "A7L1A05m4jiw"
      },
      "execution_count": null,
      "outputs": []
    },
    {
      "cell_type": "code",
      "source": [
        "# download the raw data from W&B\n",
        "raw_data = run.use_artifact(args[\"artifact_name\"])\n",
        "data_dir = raw_data.download()\n",
        "logger.info(\"Path: {}\".format(data_dir))"
      ],
      "metadata": {
        "colab": {
          "base_uri": "https://localhost:8080/"
        },
        "id": "pEPKF_Hx4ojq",
        "outputId": "2482d4b7-69c5-4119-caf0-356774ee4f17"
      },
      "execution_count": null,
      "outputs": [
        {
          "output_type": "stream",
          "name": "stderr",
          "text": [
            "\u001b[34m\u001b[1mwandb\u001b[0m: Downloading large artifact animals_raw_data:latest, 94.21MB. 950 files... \n",
            "\u001b[34m\u001b[1mwandb\u001b[0m:   950 of 950 files downloaded.  \n",
            "Done. 0:0:0.2\n",
            "16-11-2022 12:42:53 Path: ./artifacts/animals_raw_data:v0\n"
          ]
        }
      ]
    },
    {
      "cell_type": "code",
      "source": [
        "# a basic simple preprocessor\n",
        "class SimplePreprocessor:\n",
        "\tdef __init__(self, width, height, inter=cv2.INTER_AREA):\n",
        "\t\t# store the target image width, height, and interpolation\n",
        "\t\t# method used when resizing\n",
        "\t\tself.width = width\n",
        "\t\tself.height = height\n",
        "\t\tself.inter = inter\n",
        "\n",
        "\tdef preprocess(self, image):\n",
        "\t\t# resize the image to a fixed size, ignoring the aspect\n",
        "\t\t# ratio\n",
        "\t\treturn cv2.resize(image, (self.width, self.height),interpolation=self.inter)"
      ],
      "metadata": {
        "id": "c5s6AOTv4vt8"
      },
      "execution_count": null,
      "outputs": []
    },
    {
      "cell_type": "code",
      "source": [
        "# Building an image loader\n",
        "class SimpleDatasetLoader:\n",
        "  def __init__(self, preprocessors=None, logger=None):\n",
        "\t\t# store the image preprocessor\n",
        "    self.preprocessors = preprocessors\n",
        "    self.logger = logger\n",
        "\n",
        "\t\t# if the preprocessors are None, initialize them as an\n",
        "\t\t# empty list\n",
        "    if self.preprocessors is None:\n",
        "      self.preprocessors = []\n",
        "\n",
        "  def load(self, imagePaths, verbose=-1):\n",
        "\t\t# initialize the list of features and labels\n",
        "    data = []\n",
        "    labels = []\n",
        "\n",
        "\t\t# loop over the input images\n",
        "    for (i, imagePath) in enumerate(imagePaths):\n",
        "\t\t\t# load the image and extract the class label assuming\n",
        "\t\t\t# that our path has the following format:\n",
        "\t\t\t# /path/to/dataset/{class}/{image}.jpg\n",
        "\t\t\t# e.g \"img example: ./artifacts/animals_raw_data:v0/dogs/dogs_00892.jpg\"\n",
        "\t\t\t# imagePath.split(os.path.sep)[-2] will return \"dogs\"\n",
        "      image = cv2.imread(imagePath)\n",
        "      label = imagePath.split(os.path.sep)[-2]\n",
        "\n",
        "      # check to see if our preprocessors are not None\n",
        "      if self.preprocessors is not None:\n",
        "\t\t\t\t# loop over the preprocessors and apply each to\n",
        "\t\t\t\t# the image\n",
        "        for p in self.preprocessors:\n",
        "          image = p.preprocess(image)\n",
        "\n",
        "\t\t\t# treat our processed image as a \"feature vector\"\n",
        "\t\t\t# by updating the data list followed by the labels\n",
        "      data.append(image)\n",
        "      labels.append(label)\n",
        "   \n",
        "\t\t\t# show an update every `verbose` images\n",
        "      if verbose > 0 and i > 0 and (i + 1) % verbose == 0:\n",
        "        logger.info(\"[INFO] processed {}/{}\".format(i + 1,len(imagePaths)))\n",
        "\n",
        "\t\t# return a tuple of the data and labels\n",
        "    return (np.array(data), np.array(labels))"
      ],
      "metadata": {
        "id": "CFFz7RFx4ycJ"
      },
      "execution_count": null,
      "outputs": []
    },
    {
      "cell_type": "code",
      "source": [
        "# grab the list of images that we'll be describing\n",
        "logger.info(\"[INFO] preprocessing images...\")\n",
        "imagePaths = list(paths.list_images(data_dir))\n",
        "\n",
        "# initialize the image preprocessor, load the dataset from disk,\n",
        "# and reshape the data matrix\n",
        "sp = SimplePreprocessor(32, 32)\n",
        "sdl = SimpleDatasetLoader(preprocessors=[sp],logger=logger)\n",
        "(data, labels) = sdl.load(imagePaths, verbose=500)\n",
        "# 32 x 32 x 3 = 3072\n",
        "data = data.reshape((data.shape[0], 3072))\n",
        "\n",
        "# show some information on memory consumption of the images\n",
        "logger.info(\"[INFO] features matrix: {:.1f}MB\".format(data.nbytes / (1024 * 1024)))"
      ],
      "metadata": {
        "colab": {
          "base_uri": "https://localhost:8080/"
        },
        "id": "jJaNCqbC40Uy",
        "outputId": "a331e00d-9597-41ea-a385-9720720bfbbd"
      },
      "execution_count": null,
      "outputs": [
        {
          "output_type": "stream",
          "name": "stderr",
          "text": [
            "16-11-2022 12:42:53 [INFO] preprocessing images...\n",
            "16-11-2022 12:42:59 [INFO] processed 500/950\n",
            "16-11-2022 12:43:04 [INFO] features matrix: 2.8MB\n"
          ]
        }
      ]
    },
    {
      "cell_type": "code",
      "source": [
        "logger.info(\"Data shape: {}\".format(data.shape))\n",
        "logger.info(\"Label shape: {}\".format(labels.shape))"
      ],
      "metadata": {
        "colab": {
          "base_uri": "https://localhost:8080/"
        },
        "id": "NNZrrvhR41zK",
        "outputId": "c7880aa8-93a9-4823-bbcd-e4a929664f96"
      },
      "execution_count": null,
      "outputs": [
        {
          "output_type": "stream",
          "name": "stderr",
          "text": [
            "16-11-2022 12:43:04 Data shape: (950, 3072)\n",
            "16-11-2022 12:43:04 Label shape: (950,)\n"
          ]
        }
      ]
    },
    {
      "cell_type": "code",
      "source": [
        "logger.info(\"Dumping the clean data artifacts to disk\")\n",
        "# Save the feature artifacts using joblib\n",
        "joblib.dump(data, args[\"dataset\"])\n",
        "\n",
        "# Save the target using joblib\n",
        "joblib.dump(labels, args[\"label\"])"
      ],
      "metadata": {
        "colab": {
          "base_uri": "https://localhost:8080/"
        },
        "id": "iagpKYUv429i",
        "outputId": "24f1d599-6146-404c-ac5e-37c3188f2582"
      },
      "execution_count": null,
      "outputs": [
        {
          "output_type": "stream",
          "name": "stderr",
          "text": [
            "16-11-2022 12:43:04 Dumping the clean data artifacts to disk\n"
          ]
        },
        {
          "output_type": "execute_result",
          "data": {
            "text/plain": [
              "['label']"
            ]
          },
          "metadata": {},
          "execution_count": 16
        }
      ]
    },
    {
      "cell_type": "code",
      "source": [
        "# clean data artifact\n",
        "artifact = wandb.Artifact(args[\"dataset\"],\n",
        "                          type=\"CLEAN_DATA\",\n",
        "                          description=\"A json file representing the clean and preprocessed data\"\n",
        "                          )\n",
        "\n",
        "logger.info(\"Logging clean data artifact\")\n",
        "artifact.add_file(args[\"dataset\"])\n",
        "run.log_artifact(artifact)"
      ],
      "metadata": {
        "colab": {
          "base_uri": "https://localhost:8080/"
        },
        "id": "rbTUaiHI44TV",
        "outputId": "aab95546-4b2c-49a4-c47d-85dda29f7beb"
      },
      "execution_count": null,
      "outputs": [
        {
          "output_type": "stream",
          "name": "stderr",
          "text": [
            "16-11-2022 12:43:04 Logging clean data artifact\n"
          ]
        },
        {
          "output_type": "execute_result",
          "data": {
            "text/plain": [
              "<wandb.sdk.wandb_artifacts.Artifact at 0x7f5c28f8c910>"
            ]
          },
          "metadata": {},
          "execution_count": 17
        }
      ]
    },
    {
      "cell_type": "code",
      "source": [
        "# clean label artifact\n",
        "artifact = wandb.Artifact(args[\"label\"],\n",
        "                          type=\"CLEAN_DATA\",\n",
        "                          description=\"A json file representing the clean label\"\n",
        "                          )\n",
        "\n",
        "logger.info(\"Logging clean label artifact\")\n",
        "artifact.add_file(args[\"label\"])\n",
        "run.log_artifact(artifact)"
      ],
      "metadata": {
        "colab": {
          "base_uri": "https://localhost:8080/"
        },
        "id": "rtYc3jvy454p",
        "outputId": "252adb97-bbae-47b0-8042-44cd2127ea65"
      },
      "execution_count": null,
      "outputs": [
        {
          "output_type": "stream",
          "name": "stderr",
          "text": [
            "16-11-2022 12:43:05 Logging clean label artifact\n"
          ]
        },
        {
          "output_type": "execute_result",
          "data": {
            "text/plain": [
              "<wandb.sdk.wandb_artifacts.Artifact at 0x7f5c2905ef10>"
            ]
          },
          "metadata": {},
          "execution_count": 18
        }
      ]
    },
    {
      "cell_type": "code",
      "source": [
        "run.finish()"
      ],
      "metadata": {
        "colab": {
          "base_uri": "https://localhost:8080/",
          "height": 86
        },
        "id": "bWVBDq6b47Bp",
        "outputId": "e89c48c7-07bb-4935-eafa-65dd2ac64d9b"
      },
      "execution_count": null,
      "outputs": [
        {
          "output_type": "display_data",
          "data": {
            "text/plain": [
              "<IPython.core.display.HTML object>"
            ],
            "text/html": [
              "Waiting for W&B process to finish... <strong style=\"color:green\">(success).</strong>"
            ]
          },
          "metadata": {}
        },
        {
          "output_type": "display_data",
          "data": {
            "text/plain": [
              "<IPython.core.display.HTML object>"
            ],
            "text/html": [
              "Synced <strong style=\"color:#cdcd00\">azure-lion-5</strong>: <a href=\"https://wandb.ai/gildson/transfer_learning_VGG-16/runs/3d1v0yxl\" target=\"_blank\">https://wandb.ai/gildson/transfer_learning_VGG-16/runs/3d1v0yxl</a><br/>Synced 5 W&B file(s), 0 media file(s), 951 artifact file(s) and 0 other file(s)"
            ]
          },
          "metadata": {}
        },
        {
          "output_type": "display_data",
          "data": {
            "text/plain": [
              "<IPython.core.display.HTML object>"
            ],
            "text/html": [
              "Find logs at: <code>./wandb/run-20221116_124226-3d1v0yxl/logs</code>"
            ]
          },
          "metadata": {}
        }
      ]
    }
  ]
}